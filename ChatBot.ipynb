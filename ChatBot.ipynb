{
  "nbformat": 4,
  "nbformat_minor": 0,
  "metadata": {
    "colab": {
      "provenance": [],
      "authorship_tag": "ABX9TyMyPJSwt6fqruU3Fb255+6g",
      "include_colab_link": true
    },
    "kernelspec": {
      "name": "python3",
      "display_name": "Python 3"
    },
    "language_info": {
      "name": "python"
    }
  },
  "cells": [
    {
      "cell_type": "markdown",
      "metadata": {
        "id": "view-in-github",
        "colab_type": "text"
      },
      "source": [
        "<a href=\"https://colab.research.google.com/github/PlayfulDevBit/ChatBot/blob/main/ChatBot.ipynb\" target=\"_parent\"><img src=\"https://colab.research.google.com/assets/colab-badge.svg\" alt=\"Open In Colab\"/></a>"
      ]
    },
    {
      "cell_type": "code",
      "source": [
        "#!pip uninstall mistralai\n",
        "!pip install mistralai"
      ],
      "metadata": {
        "id": "Ba1jwGjI4m-w",
        "colab": {
          "base_uri": "https://localhost:8080/"
        },
        "outputId": "a68dfe7e-11f4-4ffa-bc25-92402df31d24"
      },
      "execution_count": 1,
      "outputs": [
        {
          "output_type": "stream",
          "name": "stdout",
          "text": [
            "Requirement already satisfied: mistralai in /usr/local/lib/python3.11/dist-packages (1.7.0)\n",
            "Requirement already satisfied: eval-type-backport>=0.2.0 in /usr/local/lib/python3.11/dist-packages (from mistralai) (0.2.2)\n",
            "Requirement already satisfied: httpx>=0.28.1 in /usr/local/lib/python3.11/dist-packages (from mistralai) (0.28.1)\n",
            "Requirement already satisfied: pydantic>=2.10.3 in /usr/local/lib/python3.11/dist-packages (from mistralai) (2.11.3)\n",
            "Requirement already satisfied: python-dateutil>=2.8.2 in /usr/local/lib/python3.11/dist-packages (from mistralai) (2.8.2)\n",
            "Requirement already satisfied: typing-inspection>=0.4.0 in /usr/local/lib/python3.11/dist-packages (from mistralai) (0.4.0)\n",
            "Requirement already satisfied: anyio in /usr/local/lib/python3.11/dist-packages (from httpx>=0.28.1->mistralai) (4.9.0)\n",
            "Requirement already satisfied: certifi in /usr/local/lib/python3.11/dist-packages (from httpx>=0.28.1->mistralai) (2025.1.31)\n",
            "Requirement already satisfied: httpcore==1.* in /usr/local/lib/python3.11/dist-packages (from httpx>=0.28.1->mistralai) (1.0.8)\n",
            "Requirement already satisfied: idna in /usr/local/lib/python3.11/dist-packages (from httpx>=0.28.1->mistralai) (3.10)\n",
            "Requirement already satisfied: h11<0.15,>=0.13 in /usr/local/lib/python3.11/dist-packages (from httpcore==1.*->httpx>=0.28.1->mistralai) (0.14.0)\n",
            "Requirement already satisfied: annotated-types>=0.6.0 in /usr/local/lib/python3.11/dist-packages (from pydantic>=2.10.3->mistralai) (0.7.0)\n",
            "Requirement already satisfied: pydantic-core==2.33.1 in /usr/local/lib/python3.11/dist-packages (from pydantic>=2.10.3->mistralai) (2.33.1)\n",
            "Requirement already satisfied: typing-extensions>=4.12.2 in /usr/local/lib/python3.11/dist-packages (from pydantic>=2.10.3->mistralai) (4.13.2)\n",
            "Requirement already satisfied: six>=1.5 in /usr/local/lib/python3.11/dist-packages (from python-dateutil>=2.8.2->mistralai) (1.17.0)\n",
            "Requirement already satisfied: sniffio>=1.1 in /usr/local/lib/python3.11/dist-packages (from anyio->httpx>=0.28.1->mistralai) (1.3.1)\n"
          ]
        }
      ]
    },
    {
      "cell_type": "code",
      "source": [
        "from mistralai import Mistral\n",
        "from google.colab import userdata\n",
        "\n",
        "# Retrieve the API key from Google Colab's secret section\n",
        "api_key = userdata.get('Mistral_API_key')\n",
        "\n",
        "# Define the model\n",
        "# model = \"mistral-large-latest\"\n",
        "model = \"mistral-small-latest\"\n",
        "\n",
        "# Initialize the Mistral client\n",
        "client = Mistral(api_key=api_key)\n",
        "\n",
        "# Initialize conversation history\n",
        "conversation_history = []\n",
        "\n",
        "def get_chat_response(user_input):\n",
        "    global conversation_history\n",
        "    # Append the user's message to the conversation history\n",
        "    conversation_history.append({\"role\": \"user\", \"content\": user_input})\n",
        "\n",
        "    # Generate a chat response\n",
        "    chat_response = client.chat.complete(\n",
        "        model=model,\n",
        "        messages=conversation_history\n",
        "    )\n",
        "\n",
        "    # Get the assistant's reply\n",
        "    assistant_reply = chat_response.choices[0].message.content\n",
        "\n",
        "    # Append the assistant's reply to the conversation history\n",
        "    conversation_history.append({\"role\": \"assistant\", \"content\": assistant_reply})\n",
        "\n",
        "    return assistant_reply\n",
        "\n",
        "# Example usage\n",
        "while True:\n",
        "    user_input = input(\"You: \")\n",
        "    if user_input.lower() == \"exit\":\n",
        "        break\n",
        "    response = get_chat_response(user_input)\n",
        "    print(\"Assistant:\", response)"
      ],
      "metadata": {
        "colab": {
          "base_uri": "https://localhost:8080/"
        },
        "id": "LdnmGJFgG4th",
        "outputId": "6ec538b6-cdf4-4465-ec19-933f75f06838"
      },
      "execution_count": 2,
      "outputs": [
        {
          "name": "stdout",
          "output_type": "stream",
          "text": [
            "You: hello could you tell me how was Linux invented?\n",
            "Assistant: Certainly! The story of Linux begins in the early 1990s. Here's a brief overview of how it was invented:\n",
            "\n",
            "### Background\n",
            "- **Unix**: Before Linux, there was Unix, an operating system developed in the 1960s and 1970s at AT&T's Bell Labs. Unix was known for its robustness, flexibility, and multi-user capabilities. However, it was proprietary and expensive.\n",
            "- **Minix**: In the late 1980s, Andrew S. Tanenbaum created Minix, a Unix-like operating system designed for educational purposes. It was distributed with source code, allowing students to learn about operating systems by modifying and studying the code.\n",
            "\n",
            "### The Birth of Linux\n",
            "- **Linus Torvalds**: In 1991, Linus Torvalds, a Finnish student at the University of Helsinki, was interested in operating systems and wanted to create a Unix-like system for his personal computer. He started working on a new kernel (the core part of an operating system) that would run on his Intel 80386-based PC.\n",
            "- **Announcement**: On August 25, 1991, Linus Torvalds posted a message on the Usenet newsgroup `comp.os.minix` announcing his new project. He wrote:\n",
            "  > \"I'm doing a (free) operating system (just a hobby, won't be big and professional like gnu) for 386(486) AT clones. This has been brewing since April, and is starting to get ready. I'd like any feedback on things people like/dislike in minix, as my OS resembles it somewhat (same physical layout of the file-system (due to practical reasons) among other things).\"\n",
            "- **Open Source**: Torvalds released the source code of his kernel under the GNU General Public License (GPL), making it freely available for anyone to use, modify, and distribute. This decision was crucial for the growth and success of Linux.\n",
            "\n",
            "### Development and Growth\n",
            "- **Community Contributions**: The open-source nature of Linux allowed developers from around the world to contribute to its development. Over time, the Linux kernel grew more robust and feature-rich.\n",
            "- **GNU Tools**: Linux was often combined with GNU tools (like the GNU Compiler Collection, GNU C Library, and other utilities) to create a complete operating system. This combination is often referred to as GNU/Linux.\n",
            "- **Distributions**: Various organizations and communities began packaging Linux with different sets of software and tools, creating what are known as Linux distributions (or \"distros\"). Examples include Debian, Red Hat, Ubuntu, and many others.\n",
            "\n",
            "### Impact\n",
            "- **Adoption**: Linux has been adopted in a wide range of applications, from servers and supercomputers to embedded systems and mobile devices. It powers a significant portion of the internet and is used in various industries, including finance, healthcare, and education.\n",
            "- **Community and Innovation**: The open-source model has fostered a vibrant community of developers and users who continue to innovate and improve the Linux ecosystem.\n",
            "\n",
            "In summary, Linux was invented by Linus Torvalds as a hobby project in 1991, inspired by Unix and Minix. Its open-source nature allowed it to grow rapidly with contributions from a global community, leading to its widespread adoption and success.\n",
            "You: exit\n"
          ]
        }
      ]
    }
  ]
}